{
 "cells": [
  {
   "cell_type": "code",
   "execution_count": 3,
   "id": "1fe9f666-1233-4cdf-b784-ef0296837c24",
   "metadata": {},
   "outputs": [],
   "source": [
    "from pathlib import Path\n",
    "import csv"
   ]
  },
  {
   "cell_type": "code",
   "execution_count": 5,
   "id": "10a710d4-88cd-4988-8190-8bc3e175c259",
   "metadata": {},
   "outputs": [],
   "source": [
    "csvpath = Path('budget_data.csv')"
   ]
  },
  {
   "cell_type": "code",
   "execution_count": null,
   "id": "e726df3e-7d98-4a8b-a857-04575b21b372",
   "metadata": {},
   "outputs": [],
   "source": [
    "#Initializing variables\n",
    "total_months = 0\n",
    "net_amount = 0\n"
   ]
  }
 ],
 "metadata": {
  "kernelspec": {
   "display_name": "Python 3 (ipykernel)",
   "language": "python",
   "name": "python3"
  },
  "language_info": {
   "codemirror_mode": {
    "name": "ipython",
    "version": 3
   },
   "file_extension": ".py",
   "mimetype": "text/x-python",
   "name": "python",
   "nbconvert_exporter": "python",
   "pygments_lexer": "ipython3",
   "version": "3.11.5"
  }
 },
 "nbformat": 4,
 "nbformat_minor": 5
}
