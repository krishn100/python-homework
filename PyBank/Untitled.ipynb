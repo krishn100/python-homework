{
 "cells": [
  {
   "cell_type": "code",
   "execution_count": 6,
   "id": "e99235fc-9340-4e1c-baee-596be9e44e69",
   "metadata": {},
   "outputs": [
    {
     "name": "stdout",
     "output_type": "stream",
     "text": [
      "Financial Analysis\n",
      "----------------------------\n",
      "Total Months: 86\n",
      "Total: $38382578\n",
      "Average Change: $-2315.12\n",
      "Greatest Increase in Profits: Feb-2012 ($1926159)\n",
      "Greatest Decrease in Profits: Sep-2013 ($-2196167)\n"
     ]
    }
   ],
   "source": [
    "from pathlib import Path\n",
    "import csv\n",
    "\n",
    "csvpath = Path ('budger_data.csv')\n",
    "\n",
    "def analysis(csvpath):\n",
    "    # Initialize variables to store financial metrics\n",
    "    total_months = 0\n",
    "    net_total = 0\n",
    "    prev_profit_loss = 0\n",
    "    profit_loss_changes = []\n",
    "    dates = []\n",
    "\n",
    "    # Read the CSV file\n",
    "    with open(csvpath, newline='') as csvfile:\n",
    "        csvreader = csv.reader(csvfile, delimiter=',')\n",
    "        next(csvreader)  # Skip the header row\n",
    "\n",
    "        # Loop through rows in the CSV\n",
    "        for row in csvreader:\n",
    "            date = row[0]\n",
    "            profit_loss = int(row[1])\n",
    "\n",
    "            # Calculate total months and net total\n",
    "            total_months += 1\n",
    "            net_total += profit_loss\n",
    "\n",
    "            # Calculate changes in profit/loss\n",
    "            if total_months > 1:\n",
    "                change = profit_loss - prev_profit_loss\n",
    "                profit_loss_changes.append(change)\n",
    "                dates.append(date)\n",
    "\n",
    "            prev_profit_loss = profit_loss\n",
    "\n",
    "    # Calculate average change\n",
    "    average_change = sum(profit_loss_changes) / (total_months - 1)\n",
    "\n",
    "    # Find the greatest increase and decrease\n",
    "    greatest_increase = max(profit_loss_changes)\n",
    "    greatest_increase_index = profit_loss_changes.index(greatest_increase)\n",
    "    greatest_increase_date = dates[greatest_increase_index]\n",
    "\n",
    "    greatest_decrease = min(profit_loss_changes)\n",
    "    greatest_decrease_index = profit_loss_changes.index(greatest_decrease)\n",
    "    greatest_decrease_date = dates[greatest_decrease_index]\n",
    "\n",
    "    # Print the financial analysis\n",
    "    print(\"Financial Analysis\")\n",
    "    print(\"-\" * 28)\n",
    "    print(f\"Total Months: {total_months}\")\n",
    "    print(f\"Total: ${net_total}\")\n",
    "    print(f\"Average Change: ${average_change:.2f}\")\n",
    "    print(f\"Greatest Increase in Profits: {greatest_increase_date} (${greatest_increase})\")\n",
    "    print(f\"Greatest Decrease in Profits: {greatest_decrease_date} (${greatest_decrease})\")\n",
    "\n",
    "# Replace with your actual file path\n",
    "csv_file_path = \"budget_data.csv\"\n",
    "analysis(csv_file_path)"
   ]
  },
  {
   "cell_type": "code",
   "execution_count": null,
   "id": "e3d84342-5593-4d5a-b91b-8f91a637a07d",
   "metadata": {},
   "outputs": [],
   "source": []
  },
  {
   "cell_type": "code",
   "execution_count": null,
   "id": "c30d4267-0207-46ed-b322-8b4740e699fa",
   "metadata": {},
   "outputs": [],
   "source": []
  }
 ],
 "metadata": {
  "kernelspec": {
   "display_name": "Python 3 (ipykernel)",
   "language": "python",
   "name": "python3"
  },
  "language_info": {
   "codemirror_mode": {
    "name": "ipython",
    "version": 3
   },
   "file_extension": ".py",
   "mimetype": "text/x-python",
   "name": "python",
   "nbconvert_exporter": "python",
   "pygments_lexer": "ipython3",
   "version": "3.11.5"
  }
 },
 "nbformat": 4,
 "nbformat_minor": 5
}
