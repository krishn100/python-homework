{
 "cells": [
  {
   "cell_type": "code",
   "execution_count": 96,
   "id": "2ff4cfad-30a4-459f-bb1c-210bf883add6",
   "metadata": {},
   "outputs": [
    {
     "name": "stdout",
     "output_type": "stream",
     "text": [
      "Financial Analysis\n",
      "----------------------------\n",
      "Total Months: 86\n",
      "Total: $38382578\n",
      "Average Change: $-2315.12\n",
      "Greatest Increase in Profits: Feb-2012 ($1926159)\n",
      "Greatest Decrease in Profits: Sep-2013 ($-2196167)\n"
     ]
    }
   ],
   "source": [
    "from pathlib import Path\n",
    "import csv\n",
    "\n",
    "csvpath = Path ('budget_data.csv')\n",
    "\n",
    "# Initializing Variables\n",
    "\n",
    "def analysis(csvpath):\n",
    "   \n",
    "    total_months = 0\n",
    "    net_profit_loss = 0\n",
    "    prev_profit_loss = 0\n",
    "    dates = []\n",
    "    profit_loss_changes = []\n",
    "\n",
    "    #\n",
    "    \n",
    "    with open(csvpath, newline='') as csvfile:\n",
    "        csvreader = csv.reader(csvfile, delimiter=',')\n",
    "        next(csvreader)  \n",
    "\n",
    "    # Extracting date and profit/loss from every row\n",
    "        for row in csvreader:\n",
    "            date = row[0]\n",
    "            profit_loss = int(row[1])\n",
    "\n",
    "    # Calculating total months and net profit loss\n",
    "            total_months += 1\n",
    "            net_profit_loss += profit_loss\n",
    "\n",
    "    # If more than one month of data, append change in profit/loss to profit_loss_changes, and appends the corresponding date\n",
    "            if total_months > 1:\n",
    "                change = profit_loss - prev_profit_loss\n",
    "                profit_loss_changes.append(change)\n",
    "                dates.append(date)\n",
    "\n",
    "            prev_profit_loss = profit_loss\n",
    "\n",
    "    # Calulating average change in profit/loss, greatest increase and decrease\n",
    "   \n",
    "    average_change = sum(profit_loss_changes) / (total_months - 1)\n",
    "\n",
    "   \n",
    "    greatest_increase = max(profit_loss_changes)\n",
    "    greatest_increase_index = profit_loss_changes.index(greatest_increase)\n",
    "    greatest_increase_date = dates[greatest_increase_index]\n",
    "\n",
    "    greatest_decrease = min(profit_loss_changes)\n",
    "    greatest_decrease_index = profit_loss_changes.index(greatest_decrease)\n",
    "    greatest_decrease_date = dates[greatest_decrease_index]\n",
    "\n",
    "  \n",
    "    print(\"Financial Analysis\")\n",
    "    print(\"-\" * 28)\n",
    "    print(f\"Total Months: {total_months}\")\n",
    "    print(f\"Total: ${net_profit_loss}\")\n",
    "    print(f\"Average Change: ${average_change:.2f}\")\n",
    "    print(f\"Greatest Increase in Profits: {greatest_increase_date} (${greatest_increase})\")\n",
    "    print(f\"Greatest Decrease in Profits: {greatest_decrease_date} (${greatest_decrease})\")\n",
    "\n",
    "\n",
    "csv_file_path = \"budget_data.csv\"\n",
    "analysis(csv_file_path)\n"
   ]
  },
  {
   "cell_type": "code",
   "execution_count": null,
   "id": "bb149c2a-2446-412b-8830-eb217965a601",
   "metadata": {},
   "outputs": [],
   "source": []
  },
  {
   "cell_type": "code",
   "execution_count": null,
   "id": "133248e2-92d8-48d7-b485-4943c525e5cd",
   "metadata": {},
   "outputs": [],
   "source": []
  }
 ],
 "metadata": {
  "kernelspec": {
   "display_name": "Python 3 (ipykernel)",
   "language": "python",
   "name": "python3"
  },
  "language_info": {
   "codemirror_mode": {
    "name": "ipython",
    "version": 3
   },
   "file_extension": ".py",
   "mimetype": "text/x-python",
   "name": "python",
   "nbconvert_exporter": "python",
   "pygments_lexer": "ipython3",
   "version": "3.11.5"
  }
 },
 "nbformat": 4,
 "nbformat_minor": 5
}
