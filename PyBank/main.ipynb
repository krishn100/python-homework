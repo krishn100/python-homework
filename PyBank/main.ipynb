{
 "cells": [
  {
   "cell_type": "code",
   "execution_count": 47,
   "id": "1fe9f666-1233-4cdf-b784-ef0296837c24",
   "metadata": {},
   "outputs": [],
   "source": [
    "from pathlib import Path\n",
    "import csv"
   ]
  },
  {
   "cell_type": "code",
   "execution_count": 48,
   "id": "10a710d4-88cd-4988-8190-8bc3e175c259",
   "metadata": {},
   "outputs": [],
   "source": [
    "csvpath = Path('budget_data.csv')"
   ]
  },
  {
   "cell_type": "code",
   "execution_count": 49,
   "id": "e726df3e-7d98-4a8b-a857-04575b21b372",
   "metadata": {},
   "outputs": [],
   "source": [
    "# Initializing variables\n",
    "def analysis(csvpath):\n",
    "    total_months = 0 \n",
    "    net_profit_loss = 0\n",
    "    prev_profit_loss = 0\n",
    "    dates = []\n",
    "    profit_loss_changes = []\n",
    "    "
   ]
  },
  {
   "cell_type": "code",
   "execution_count": 72,
   "id": "7a220f6a-7ecd-4258-abff-eda57234e6f8",
   "metadata": {},
   "outputs": [],
   "source": [
    "# Opening csv file as object\n",
    "with open(csvpath, newline='') as csvfile:\n",
    "    csvreader = csv.reader(csvfile, delimiter = \",\")\n",
    "    csv_header = next(csvreader)\n",
    "    "
   ]
  },
  {
   "cell_type": "code",
   "execution_count": 73,
   "id": "e09b2f78-2a67-4e09-b50c-223ca632dc0e",
   "metadata": {},
   "outputs": [],
   "source": [
    "with open(csvpath, newline='') as csvfile:\n",
    "        csvreader = csv.reader(csvfile, delimiter=',')\n",
    "        next(csvreader)"
   ]
  },
  {
   "cell_type": "code",
   "execution_count": 74,
   "id": "3313c659-5b6c-4dea-a6fc-220c9e94ae34",
   "metadata": {},
   "outputs": [
    {
     "ename": "ValueError",
     "evalue": "I/O operation on closed file.",
     "output_type": "error",
     "traceback": [
      "\u001b[0;31m---------------------------------------------------------------------------\u001b[0m",
      "\u001b[0;31mValueError\u001b[0m                                Traceback (most recent call last)",
      "Cell \u001b[0;32mIn[74], line 1\u001b[0m\n\u001b[0;32m----> 1\u001b[0m \u001b[38;5;28;01mfor\u001b[39;00m row \u001b[38;5;129;01min\u001b[39;00m csvreader:\n\u001b[1;32m      2\u001b[0m     date \u001b[38;5;241m=\u001b[39m row[\u001b[38;5;241m0\u001b[39m]\n\u001b[1;32m      3\u001b[0m     profit_loss \u001b[38;5;241m=\u001b[39m \u001b[38;5;28mint\u001b[39m(row[\u001b[38;5;241m1\u001b[39m])\n",
      "\u001b[0;31mValueError\u001b[0m: I/O operation on closed file."
     ]
    }
   ],
   "source": [
    "for row in csvreader:\n",
    "    date = row[0]\n",
    "    profit_loss = int(row[1])\n",
    "    total_months += 1 \n",
    "    net_profit_loss += profit_loss\n",
    "\n",
    "    if total_months >1:\n",
    "        change = profit_loass - prev_profit_loss\n",
    "        profit_loss_changes.append(change)\n",
    "        dates.append(date)\n",
    "    prev_profit_loss = profit_loss"
   ]
  },
  {
   "cell_type": "code",
   "execution_count": null,
   "id": "075fd86b-f8e2-4d14-b55f-6bf01383a74a",
   "metadata": {},
   "outputs": [],
   "source": []
  }
 ],
 "metadata": {
  "kernelspec": {
   "display_name": "Python 3 (ipykernel)",
   "language": "python",
   "name": "python3"
  },
  "language_info": {
   "codemirror_mode": {
    "name": "ipython",
    "version": 3
   },
   "file_extension": ".py",
   "mimetype": "text/x-python",
   "name": "python",
   "nbconvert_exporter": "python",
   "pygments_lexer": "ipython3",
   "version": "3.11.5"
  }
 },
 "nbformat": 4,
 "nbformat_minor": 5
}
